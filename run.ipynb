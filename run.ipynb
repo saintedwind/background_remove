{
  "nbformat": 4,
  "nbformat_minor": 0,
  "metadata": {
    "colab": {
      "provenance": [],
      "gpuType": "T4"
    },
    "kernelspec": {
      "name": "python3",
      "display_name": "Python 3"
    },
    "language_info": {
      "name": "python"
    },
    "accelerator": "GPU"
  },
  "cells": [
    {
      "cell_type": "code",
      "execution_count": 1,
      "metadata": {
        "colab": {
          "base_uri": "https://localhost:8080/"
        },
        "id": "AlEFrI6esRP9",
        "outputId": "1d14f073-3c3c-4cb7-b1bc-d74e3aace451"
      },
      "outputs": [
        {
          "output_type": "stream",
          "name": "stdout",
          "text": [
            "Cloning into 'background_remove'...\n",
            "remote: Enumerating objects: 70, done.\u001b[K\n",
            "remote: Counting objects: 100% (70/70), done.\u001b[K\n",
            "remote: Compressing objects: 100% (63/63), done.\u001b[K\n",
            "remote: Total 70 (delta 8), reused 58 (delta 2), pack-reused 0\u001b[K\n",
            "Unpacking objects: 100% (70/70), 7.35 MiB | 3.14 MiB/s, done.\n"
          ]
        }
      ],
      "source": [
        "!git clone https://github.com/rezabayati1/background_remove.git"
      ]
    },
    {
      "cell_type": "code",
      "source": [
        "%cd background_remove/"
      ],
      "metadata": {
        "colab": {
          "base_uri": "https://localhost:8080/"
        },
        "id": "o7LOd6k7-_Nq",
        "outputId": "2dbbdd2b-1d42-4263-f8fe-056abd48b09a"
      },
      "execution_count": 2,
      "outputs": [
        {
          "output_type": "stream",
          "name": "stdout",
          "text": [
            "/content/background_remove\n"
          ]
        }
      ]
    },
    {
      "cell_type": "code",
      "source": [
        "!pip install ./transparent-background/"
      ],
      "metadata": {
        "id": "MCmfl27dsefL"
      },
      "execution_count": null,
      "outputs": []
    },
    {
      "cell_type": "code",
      "source": [
        "!pip install ./image-upscale/"
      ],
      "metadata": {
        "id": "bpJ9x_i0sqc9"
      },
      "execution_count": null,
      "outputs": []
    },
    {
      "cell_type": "code",
      "source": [
        "!pip install ./faceorienter"
      ],
      "metadata": {
        "id": "s0O7tOjktJEa"
      },
      "execution_count": null,
      "outputs": []
    },
    {
      "cell_type": "code",
      "source": [
        "!pip install face_recognition"
      ],
      "metadata": {
        "id": "jvPDsbvSuMEd"
      },
      "execution_count": null,
      "outputs": []
    },
    {
      "cell_type": "code",
      "source": [
        "import cv2\n",
        "from PIL import Image\n",
        "from transparent_background import Remover\n",
        "import torch\n",
        "from RealESRGAN import RealESRGAN\n",
        "from PIL import ImageDraw\n",
        "import dlib\n",
        "import numpy as np\n",
        "from background_remove.faceorienter.faceorienter import FaceOrienter\n",
        "import face_recognition\n",
        "\n",
        "class ImageProcessor:\n",
        "    def __init__(self):\n",
        "        self.remover = Remover(ckpt='transparent-background/latest.pth', device=\"cuda:0\")\n",
        "        self.device = torch.device('cuda')\n",
        "        self.model = RealESRGAN(self.device, scale=4)\n",
        "        self.model.load_weights('transparent-background/weights/RealESRGAN_x4.pth', download=True)\n",
        "\n",
        "    def remove_background(self, image_path):\n",
        "        img = Image.open(image_path).convert('RGB')\n",
        "        out = self.remover.process(img, type='white')\n",
        "        output_path = 'bg_removed_sample.jpg'\n",
        "        Image.fromarray(out).save(output_path)\n",
        "        return output_path\n",
        "\n",
        "    def upscale_image(self, image_path):\n",
        "        path_to_image = image_path\n",
        "        image = Image.open(path_to_image)\n",
        "        sr_image = self.model.predict(image)\n",
        "        output_path = 'upscaled_sample.jpg'\n",
        "        sr_image.save(output_path)\n",
        "        return output_path\n",
        "\n",
        "    def fix_orientation(self, image_path):\n",
        "        fo = FaceOrienter(image_path)\n",
        "        orientation = fo.predict_orientation()\n",
        "        fixed_image_path = 'fixed_orientation_sample.jpg'\n",
        "        fo.fix_orientation(fixed_image_path)\n",
        "        return fixed_image_path\n",
        "\n",
        "    def rotate_and_resize_face(self, image_path):\n",
        "        image = Image.open(image_path).convert('RGB')\n",
        "        image_array = np.array(image)\n",
        "        face_landmarks = face_recognition.face_landmarks(image_array)\n",
        "\n",
        "        if len(face_landmarks) == 0:\n",
        "            print(\"No face detected in the image.\")\n",
        "            return None\n",
        "\n",
        "        face_landmark = face_landmarks[0]\n",
        "        left_eye = face_landmark['left_eye']\n",
        "        right_eye = face_landmark['right_eye']\n",
        "        dx = right_eye[0][0] - left_eye[3][0]\n",
        "        dy = right_eye[0][1] - left_eye[3][1]\n",
        "        angle = np.degrees(np.arctan2(dy, dx))\n",
        "        rotated_image = image.rotate(angle, expand=True, fillcolor='white')\n",
        "        new_image = Image.new('RGB', image.size, (255, 255, 255))\n",
        "        paste_position = (\n",
        "            (new_image.width - rotated_image.width) // 2,\n",
        "            (new_image.height - rotated_image.height) // 2\n",
        "        )\n",
        "        new_image.paste(rotated_image, paste_position)\n",
        "        resized_image = new_image.resize((400, 600))\n",
        "        resized_image.save('result.jpg')\n",
        "        return 'result.jpg'\n",
        "\n",
        "\n",
        "# Example usage\n",
        "processor = ImageProcessor()\n",
        "image_path = 'sample.jpg'\n",
        "\n",
        "# Remove background\n",
        "output_path = processor.remove_background(image_path)\n",
        "\n",
        "# Upscale image\n",
        "output_path = processor.upscale_image(output_path)\n",
        "\n",
        "# Fix orientation\n",
        "output_path = processor.fix_orientation(output_path)\n",
        "\n",
        "# Rotate and resize face\n",
        "output_path = processor.rotate_and_resize_face(output_path)\n"
      ],
      "metadata": {
        "colab": {
          "base_uri": "https://localhost:8080/"
        },
        "id": "b2g0Wf0otVXv",
        "outputId": "d01afe87-7dea-4209-8bb6-9b7d13800364"
      },
      "execution_count": 12,
      "outputs": [
        {
          "output_type": "stream",
          "name": "stdout",
          "text": [
            "Settings -> Mode=base, Device=cuda:0, Torchscript=disabled\n"
          ]
        }
      ]
    },
    {
      "cell_type": "code",
      "source": [],
      "metadata": {
        "id": "xi3cFzCUDJQZ"
      },
      "execution_count": null,
      "outputs": []
    }
  ]
}
